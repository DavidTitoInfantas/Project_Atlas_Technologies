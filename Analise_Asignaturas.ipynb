{
  "nbformat": 4,
  "nbformat_minor": 0,
  "metadata": {
    "colab": {
      "name": "Analise_Asignaturas",
      "provenance": [],
      "collapsed_sections": [],
      "mount_file_id": "1bfZpb7ycKiDpYb47aXtS8KL8kdDmIoic",
      "authorship_tag": "ABX9TyN6t9f9oVE6Lx+pffSJBqiH",
      "include_colab_link": true
    },
    "kernelspec": {
      "display_name": "Python 3",
      "name": "python3"
    },
    "language_info": {
      "name": "python"
    }
  },
  "cells": [
    {
      "cell_type": "markdown",
      "metadata": {
        "id": "view-in-github",
        "colab_type": "text"
      },
      "source": [
        "<a href=\"https://colab.research.google.com/github/DavidTitoInfantas/Project_Atlas_Technologies/blob/main/Analise_Asignaturas.ipynb\" target=\"_parent\"><img src=\"https://colab.research.google.com/assets/colab-badge.svg\" alt=\"Open In Colab\"/></a>"
      ]
    },
    {
      "cell_type": "markdown",
      "metadata": {
        "id": "e8LAOIMtTCpW"
      },
      "source": [
        "#Analise Projeto Atlas"
      ]
    },
    {
      "cell_type": "markdown",
      "metadata": {
        "id": "MwrXp3TdlOYa"
      },
      "source": [
        "###Lib's"
      ]
    },
    {
      "cell_type": "code",
      "metadata": {
        "id": "7nVlOLshS7X-"
      },
      "source": [
        "import pandas as pd\n",
        "import numpy as np\n",
        "from sklearn.model_selection import train_test_split\n",
        "from sklearn.ensemble import RandomForestClassifier\n",
        "from sklearn.tree import DecisionTreeClassifier\n",
        "\n",
        "from sklearn.model_selection import StratifiedKFold\n",
        "from sklearn.model_selection import RepeatedStratifiedKFold\n",
        "from sklearn.model_selection import RandomizedSearchCV\n",
        "from scipy.stats import randint\n",
        "\n",
        "from sklearn.model_selection import cross_val_score\n",
        "from sklearn.model_selection import cross_val_predict\n",
        "import matplotlib.pyplot as plt\n",
        "from sklearn import metrics\n",
        "from sklearn.metrics import roc_auc_score\n",
        "from xgboost import XGBClassifier"
      ],
      "execution_count": 1,
      "outputs": []
    },
    {
      "cell_type": "code",
      "metadata": {
        "id": "gym9pDhu9Nsa"
      },
      "source": [
        "def metricas(scores,target):\n",
        "    return pd.DataFrame({\n",
        "        'KS'   : [ks2(scores,target)],\n",
        "        'ROC'  : [roc_auc_score(y_score=scores,y_true=target)],\n",
        "        'GINI' : [2 * roc_auc_score(y_score=scores,y_true=target) - 1]\n",
        "          })\n",
        "    \n",
        "def ks2(score, alvo):\n",
        "    b2 = pd.crosstab(score, alvo, rownames = ['score']).reset_index()\n",
        "    if len(np.unique(alvo)) > 1:\n",
        "        freq_bom = b2.iloc[:,1]/sum(b2.iloc[:,1])\n",
        "        freq_mau = b2.iloc[:,2]/sum(b2.iloc[:,2])\n",
        "        ac_bom = np.cumsum(freq_bom)\n",
        "        ac_mau = np.cumsum(freq_mau)\n",
        "        diff = np.abs(ac_bom - ac_mau).round(7)\n",
        "        ks = diff.max() * 100\n",
        "    else:\n",
        "        ks = 0\n",
        "    return ks\n",
        "\n",
        "def tabela_geral(modelos, X,y,nomes):\n",
        "  lista = []\n",
        "  noms = []\n",
        "  for i in range(len(modelos)):\n",
        "    tab = metricas(modelos[i].predict_proba(X)[:,0],y)\n",
        "    lista.append(tab)\n",
        "    nom = nomes[i]\n",
        "    noms.append(nom)   \n",
        "  tabela_g = pd.concat([lista[0],lista[1]],ignore_index=True)\n",
        "  tabela_g['modelo']= noms\n",
        "  return tabela_g[['modelo', 'KS','ROC','GINI']]  \n",
        "\n",
        "def plot_scores(df, score_base='Score_solucao'):\n",
        "    num_bins = 10 \n",
        "    plt.figure(figsize=(8, 4))\n",
        "    plt.hist(df[score_base], num_bins, facecolor='blue', alpha=0.4,label=str(score_base))\n",
        "    plt.legend(prop={'size': 10})\n",
        "    plt.xlabel(\"Scores\")\n",
        "    plt.ylabel(\"Frequencia\")\n",
        "    tittle = str('Histogram')\n",
        "    plt.title(\"{}\".format(str(tittle)))\n",
        "    plt.show()\n",
        "\n",
        "import matplotlib.pyplot as plt\n",
        "def plot_graph(x,y,x_nome,y_nome,tittle):\n",
        "  fig = plt.figure(figsize=(15, 4))\n",
        "  ax = fig.add_axes([0,0,1,1])\n",
        "  ax.bar(x,y,label=str(x_nome))\n",
        "  plt.legend(prop={'size': 10})\n",
        "  plt.xlabel(str(x_nome))\n",
        "  plt.ylabel(str(y_nome))\n",
        "  plt.title(str(tittle))\n",
        "  plt.show()"
      ],
      "execution_count": 2,
      "outputs": []
    },
    {
      "cell_type": "markdown",
      "metadata": {
        "id": "gJdaKc1xlLA6"
      },
      "source": [
        "###Download the data set"
      ]
    },
    {
      "cell_type": "code",
      "metadata": {
        "id": "iiCpfrVVTOOZ"
      },
      "source": [
        "df = pd.read_excel('/content/drive/MyDrive/Pratica_machine_learning/projeto_atlas/Data/dados_assinaturas.xlsx')"
      ],
      "execution_count": 3,
      "outputs": []
    },
    {
      "cell_type": "code",
      "metadata": {
        "colab": {
          "base_uri": "https://localhost:8080/",
          "height": 423
        },
        "id": "WFpsTnsYTvNz",
        "outputId": "90823867-a4f4-4cf8-8025-2820bc80b728"
      },
      "source": [
        "df.head(5)"
      ],
      "execution_count": 4,
      "outputs": [
        {
          "output_type": "execute_result",
          "data": {
            "text/html": [
              "<div>\n",
              "<style scoped>\n",
              "    .dataframe tbody tr th:only-of-type {\n",
              "        vertical-align: middle;\n",
              "    }\n",
              "\n",
              "    .dataframe tbody tr th {\n",
              "        vertical-align: top;\n",
              "    }\n",
              "\n",
              "    .dataframe thead th {\n",
              "        text-align: right;\n",
              "    }\n",
              "</style>\n",
              "<table border=\"1\" class=\"dataframe\">\n",
              "  <thead>\n",
              "    <tr style=\"text-align: right;\">\n",
              "      <th></th>\n",
              "      <th>Profile ID</th>\n",
              "      <th>Profile Created At</th>\n",
              "      <th>Profile Deleted At</th>\n",
              "      <th>Plan Code</th>\n",
              "      <th>Payment Method</th>\n",
              "      <th>Charge Value</th>\n",
              "      <th>Subscription Status</th>\n",
              "      <th>Charge Day</th>\n",
              "      <th>Last Charge At</th>\n",
              "      <th>Next Charge At</th>\n",
              "      <th>Subscription Canceled At</th>\n",
              "      <th>Cancel Reason</th>\n",
              "      <th>Subscripion Created At</th>\n",
              "      <th>Estado</th>\n",
              "    </tr>\n",
              "  </thead>\n",
              "  <tbody>\n",
              "    <tr>\n",
              "      <th>0</th>\n",
              "      <td>473128</td>\n",
              "      <td>2021-07-16 12:45:36</td>\n",
              "      <td>NaT</td>\n",
              "      <td>plano D</td>\n",
              "      <td>CREDIT_CARD</td>\n",
              "      <td>59.9</td>\n",
              "      <td>DRAFT</td>\n",
              "      <td>19</td>\n",
              "      <td>NaN</td>\n",
              "      <td>NaT</td>\n",
              "      <td>NaT</td>\n",
              "      <td>NaN</td>\n",
              "      <td>2021-07-19 18:45:21</td>\n",
              "      <td>Rio de Janeiro</td>\n",
              "    </tr>\n",
              "    <tr>\n",
              "      <th>1</th>\n",
              "      <td>315949</td>\n",
              "      <td>2021-07-14 11:01:43</td>\n",
              "      <td>NaT</td>\n",
              "      <td>plano A</td>\n",
              "      <td>CREDIT_CARD</td>\n",
              "      <td>89.9</td>\n",
              "      <td>CANCELED</td>\n",
              "      <td>23</td>\n",
              "      <td>2021-07-23</td>\n",
              "      <td>2021-07-23</td>\n",
              "      <td>2021-07-23</td>\n",
              "      <td>PAYMENT FAILED</td>\n",
              "      <td>2021-07-23 20:05:14</td>\n",
              "      <td>Rio de Janeiro</td>\n",
              "    </tr>\n",
              "    <tr>\n",
              "      <th>2</th>\n",
              "      <td>293763</td>\n",
              "      <td>2018-12-21 04:34:25</td>\n",
              "      <td>NaT</td>\n",
              "      <td>plano B</td>\n",
              "      <td>CREDIT_CARD</td>\n",
              "      <td>359.9</td>\n",
              "      <td>CANCELED</td>\n",
              "      <td>24</td>\n",
              "      <td>2021-07-24</td>\n",
              "      <td>2021-07-24</td>\n",
              "      <td>2021-07-27</td>\n",
              "      <td>USER SUSPENDED</td>\n",
              "      <td>2021-07-24 21:34:55</td>\n",
              "      <td>Bahia</td>\n",
              "    </tr>\n",
              "    <tr>\n",
              "      <th>3</th>\n",
              "      <td>124763</td>\n",
              "      <td>2021-01-24 07:52:57</td>\n",
              "      <td>NaT</td>\n",
              "      <td>plano D</td>\n",
              "      <td>CREDIT_CARD</td>\n",
              "      <td>59.9</td>\n",
              "      <td>CANCELED</td>\n",
              "      <td>25</td>\n",
              "      <td>NaN</td>\n",
              "      <td>NaT</td>\n",
              "      <td>2021-07-04</td>\n",
              "      <td>ADMIN CANCELED</td>\n",
              "      <td>2021-07-25 01:04:58</td>\n",
              "      <td>Rio de Janeiro</td>\n",
              "    </tr>\n",
              "    <tr>\n",
              "      <th>4</th>\n",
              "      <td>391446</td>\n",
              "      <td>2021-01-24 07:52:57</td>\n",
              "      <td>NaT</td>\n",
              "      <td>plano A</td>\n",
              "      <td>CREDIT_CARD</td>\n",
              "      <td>99.9</td>\n",
              "      <td>CANCELED</td>\n",
              "      <td>25</td>\n",
              "      <td>NaN</td>\n",
              "      <td>NaT</td>\n",
              "      <td>2021-07-04</td>\n",
              "      <td>ADMIN CANCELED</td>\n",
              "      <td>2021-07-25 01:05:05</td>\n",
              "      <td>Rio de Janeiro</td>\n",
              "    </tr>\n",
              "  </tbody>\n",
              "</table>\n",
              "</div>"
            ],
            "text/plain": [
              "   Profile ID  Profile Created At  ... Subscripion Created At           Estado\n",
              "0      473128 2021-07-16 12:45:36  ...     2021-07-19 18:45:21  Rio de Janeiro\n",
              "1      315949 2021-07-14 11:01:43  ...     2021-07-23 20:05:14  Rio de Janeiro\n",
              "2      293763 2018-12-21 04:34:25  ...     2021-07-24 21:34:55           Bahia\n",
              "3      124763 2021-01-24 07:52:57  ...     2021-07-25 01:04:58  Rio de Janeiro\n",
              "4      391446 2021-01-24 07:52:57  ...     2021-07-25 01:05:05  Rio de Janeiro\n",
              "\n",
              "[5 rows x 14 columns]"
            ]
          },
          "metadata": {},
          "execution_count": 4
        }
      ]
    },
    {
      "cell_type": "markdown",
      "metadata": {
        "id": "vLBBo5YGltBJ"
      },
      "source": [
        "###Exploratory Data Analysis (EDA)\n"
      ]
    },
    {
      "cell_type": "code",
      "metadata": {
        "colab": {
          "base_uri": "https://localhost:8080/"
        },
        "id": "4sp4Bg_GVnCx",
        "outputId": "cfeb0aef-97df-4f1d-c9f4-0acea3f41adb"
      },
      "source": [
        "print('-'*20, 'General information data of the data frame', '-'*20, '\\n')\n",
        "print('Number of rows = {}'.format(df.shape[0]))\n",
        "print('Number of columns = {}'.format(df.shape[1]),'\\n')\n",
        "print('head of columns = {}'.format(df.columns.values))\n",
        "\n",
        "print('-'*20, 'Information of type for column', '-'*20, '\\n')\n",
        "print(df.info())"
      ],
      "execution_count": 5,
      "outputs": [
        {
          "output_type": "stream",
          "name": "stdout",
          "text": [
            "-------------------- General information data of the data frame -------------------- \n",
            "\n",
            "Number of rows = 2027\n",
            "Number of columns = 14 \n",
            "\n",
            "head of columns = ['Profile ID' 'Profile Created At' 'Profile Deleted At' 'Plan Code'\n",
            " 'Payment Method' 'Charge Value' 'Subscription Status' 'Charge Day'\n",
            " 'Last Charge At' 'Next Charge At' 'Subscription Canceled At'\n",
            " 'Cancel Reason' 'Subscripion Created At ' 'Estado']\n",
            "-------------------- Information of type for column -------------------- \n",
            "\n",
            "<class 'pandas.core.frame.DataFrame'>\n",
            "RangeIndex: 2027 entries, 0 to 2026\n",
            "Data columns (total 14 columns):\n",
            " #   Column                    Non-Null Count  Dtype         \n",
            "---  ------                    --------------  -----         \n",
            " 0   Profile ID                2027 non-null   int64         \n",
            " 1   Profile Created At        2027 non-null   datetime64[ns]\n",
            " 2   Profile Deleted At        130 non-null    datetime64[ns]\n",
            " 3   Plan Code                 2027 non-null   object        \n",
            " 4   Payment Method            2027 non-null   object        \n",
            " 5   Charge Value              2027 non-null   float64       \n",
            " 6   Subscription Status       2027 non-null   object        \n",
            " 7   Charge Day                2027 non-null   int64         \n",
            " 8   Last Charge At            1098 non-null   object        \n",
            " 9   Next Charge At            1098 non-null   datetime64[ns]\n",
            " 10  Subscription Canceled At  1597 non-null   datetime64[ns]\n",
            " 11  Cancel Reason             1603 non-null   object        \n",
            " 12  Subscripion Created At    2027 non-null   datetime64[ns]\n",
            " 13  Estado                    2027 non-null   object        \n",
            "dtypes: datetime64[ns](5), float64(1), int64(2), object(6)\n",
            "memory usage: 221.8+ KB\n",
            "None\n"
          ]
        }
      ]
    },
    {
      "cell_type": "code",
      "metadata": {
        "colab": {
          "base_uri": "https://localhost:8080/"
        },
        "id": "Wvhsv52nwg-q",
        "outputId": "97e831f1-4133-4a84-e496-292033db4339"
      },
      "source": [
        "df.columns"
      ],
      "execution_count": 6,
      "outputs": [
        {
          "output_type": "execute_result",
          "data": {
            "text/plain": [
              "Index(['Profile ID', 'Profile Created At', 'Profile Deleted At', 'Plan Code',\n",
              "       'Payment Method', 'Charge Value', 'Subscription Status', 'Charge Day',\n",
              "       'Last Charge At', 'Next Charge At', 'Subscription Canceled At',\n",
              "       'Cancel Reason', 'Subscripion Created At ', 'Estado'],\n",
              "      dtype='object')"
            ]
          },
          "metadata": {},
          "execution_count": 6
        }
      ]
    },
    {
      "cell_type": "code",
      "metadata": {
        "colab": {
          "base_uri": "https://localhost:8080/"
        },
        "id": "nH9J2JQ8TxUZ",
        "outputId": "b5f5b999-7a59-4a02-8bd6-a658355ca672"
      },
      "source": [
        "print('-'*20, 'Percentage of null data', '-'*20, '\\n')\n",
        "df.isna().sum()/df.shape[0]*100"
      ],
      "execution_count": 7,
      "outputs": [
        {
          "output_type": "stream",
          "name": "stdout",
          "text": [
            "-------------------- Percentage of null data -------------------- \n",
            "\n"
          ]
        },
        {
          "output_type": "execute_result",
          "data": {
            "text/plain": [
              "Profile ID                   0.000000\n",
              "Profile Created At           0.000000\n",
              "Profile Deleted At          93.586581\n",
              "Plan Code                    0.000000\n",
              "Payment Method               0.000000\n",
              "Charge Value                 0.000000\n",
              "Subscription Status          0.000000\n",
              "Charge Day                   0.000000\n",
              "Last Charge At              45.831278\n",
              "Next Charge At              45.831278\n",
              "Subscription Canceled At    21.213616\n",
              "Cancel Reason               20.917612\n",
              "Subscripion Created At       0.000000\n",
              "Estado                       0.000000\n",
              "dtype: float64"
            ]
          },
          "metadata": {},
          "execution_count": 7
        }
      ]
    },
    {
      "cell_type": "code",
      "metadata": {
        "colab": {
          "base_uri": "https://localhost:8080/",
          "height": 1000
        },
        "id": "RXFz1oeXtnpz",
        "outputId": "2a4b6ed8-c3bb-4c65-aa4a-d3fe6a8b9bd3"
      },
      "source": [
        "li_1 = ['Plan Code','Payment Method',\n",
        "        'Subscription Status','Cancel Reason',\n",
        "        'Estado']\n",
        "\n",
        "for i in li_1:\n",
        "  print('-'*10, 'Percentage of',format(i), '-'*10)\n",
        "  print(df[i].value_counts()/df.shape[0]*100, '\\n')\n",
        "  a = pd.DataFrame(df[i].value_counts()/df.shape[0]*100)\n",
        "  a.plot(kind='barh')"
      ],
      "execution_count": 8,
      "outputs": [
        {
          "output_type": "stream",
          "name": "stdout",
          "text": [
            "---------- Percentage of Plan Code ----------\n",
            "plano A    33.645782\n",
            "plano B    22.200296\n",
            "plano C    20.374938\n",
            "plano D    19.092255\n",
            "plano E     4.686729\n",
            "Name: Plan Code, dtype: float64 \n",
            "\n",
            "---------- Percentage of Payment Method ----------\n",
            "CREDIT_CARD    100.0\n",
            "Name: Payment Method, dtype: float64 \n",
            "\n",
            "---------- Percentage of Subscription Status ----------\n",
            "CANCELED         78.786384\n",
            "ACTIVE           18.253577\n",
            "DRAFT             2.664036\n",
            "CANCEL QUEUED     0.296004\n",
            "Name: Subscription Status, dtype: float64 \n",
            "\n",
            "---------- Percentage of Cancel Reason ----------\n",
            "PAYMENT FAILED    48.889985\n",
            "USER SUSPENDED    17.217563\n",
            "USER CANCELED      3.749383\n",
            "ADMIN CANCELED     3.502713\n",
            "USER PENALTY       3.354711\n",
            "USER DELETED       1.430686\n",
            "CHARGEBACK         0.493340\n",
            "USER BANED         0.345338\n",
            "MOIP CANCELED      0.098668\n",
            "Name: Cancel Reason, dtype: float64 \n",
            "\n",
            "---------- Percentage of Estado ----------\n",
            "São Paulo              21.460286\n",
            "Rio Grande do Sul      12.530834\n",
            "Minas Gerais           11.198816\n",
            "Santa Catarina         10.162802\n",
            "Paraná                  7.400099\n",
            "Rio de Janeiro          7.252097\n",
            "Bahia                   6.018747\n",
            "Mato Grosso             4.686729\n",
            "Goiás                   3.502713\n",
            "Pernambuco              2.861371\n",
            "Mato Grosso do Sul      1.677356\n",
            "Rondônia                1.529354\n",
            "Espírito Santo          1.480020\n",
            "Pará                    1.381352\n",
            "Tocantins               1.332018\n",
            "Paraiba                 0.937346\n",
            "Alagoas                 0.838678\n",
            "Maranhão                0.789344\n",
            "Westeros                0.740010\n",
            "Distrito Federal        0.740010\n",
            "Rio Grande do Norte     0.542674\n",
            "Ceará                   0.345338\n",
            "Amazonas                0.246670\n",
            "Acre                    0.148002\n",
            "Roraima                 0.148002\n",
            "Sergipe                 0.049334\n",
            "Name: Estado, dtype: float64 \n",
            "\n"
          ]
        },
        {
          "output_type": "display_data",
          "data": {
            "image/png": "[encoded data removed]",
            "text/plain": [
              "<Figure size 432x288 with 1 Axes>"
            ]
          },
          "metadata": {
            "needs_background": "light"
          }
        },
        {
          "output_type": "display_data",
          "data": {
            "image/png": "[encoded data removed]",
            "text/plain": [
              "<Figure size 432x288 with 1 Axes>"
            ]
          },
          "metadata": {
            "needs_background": "light"
          }
        },
        {
          "output_type": "display_data",
          "data": {
            "image/png": "[encoded data removed]",
            "text/plain": [
              "<Figure size 432x288 with 1 Axes>"
            ]
          },
          "metadata": {
            "needs_background": "light"
          }
        },
        {
          "output_type": "display_data",
          "data": {
            "image/png": "[encoded data removed]",
            "text/plain": [
              "<Figure size 432x288 with 1 Axes>"
            ]
          },
          "metadata": {
            "needs_background": "light"
          }
        },
        {
          "output_type": "display_data",
          "data": {
            "image/png": "[encoded data removed]",
            "text/plain": [
              "<Figure size 432x288 with 1 Axes>"
            ]
          },
          "metadata": {
            "needs_background": "light"
          }
        }
      ]
    },
    {
      "cell_type": "code",
      "metadata": {
        "colab": {
          "base_uri": "https://localhost:8080/"
        },
        "id": "YOdjdiBE4kwe",
        "outputId": "c70f85c7-0f80-43ec-e02e-9733f64ded7f"
      },
      "source": [
        "print('-'*10, 'Mean recharge values ​​by region', '-'*10)\n",
        "df.groupby('Estado')['Charge Value'].mean().sort_values(ascending = False ).head(20)"
      ],
      "execution_count": 9,
      "outputs": [
        {
          "output_type": "stream",
          "name": "stdout",
          "text": [
            "---------- Mean recharge values ​​by region ----------\n"
          ]
        },
        {
          "output_type": "execute_result",
          "data": {
            "text/plain": [
              "Estado\n",
              "Ceará                 257.614286\n",
              "Westeros              245.766667\n",
              "Mato Grosso do Sul    200.194118\n",
              "Rondônia              190.125806\n",
              "Amazonas              188.900000\n",
              "Tocantins             177.196296\n",
              "Paraná                176.346667\n",
              "Acre                  167.900000\n",
              "Alagoas               167.194118\n",
              "Minas Gerais          162.710573\n",
              "Rio de Janeiro        161.831973\n",
              "Distrito Federal      161.233333\n",
              "Goiás                 154.857746\n",
              "Santa Catarina        154.215534\n",
              "São Paulo             144.033333\n",
              "Rio Grande do Sul     142.435433\n",
              "Mato Grosso           133.700000\n",
              "Pará                  128.007143\n",
              "Pernambuco            124.710345\n",
              "Paraiba               122.215789\n",
              "Name: Charge Value, dtype: float64"
            ]
          },
          "metadata": {},
          "execution_count": 9
        }
      ]
    },
    {
      "cell_type": "code",
      "metadata": {
        "colab": {
          "base_uri": "https://localhost:8080/",
          "height": 282
        },
        "id": "sNBfyeIxJKA_",
        "outputId": "bb7fc459-0bda-4048-eae6-e7d37e7b826b"
      },
      "source": [
        "df.groupby('Estado')['Charge Value'].mean().sort_values(ascending = False ).head(20).plot(kind='barh') "
      ],
      "execution_count": 10,
      "outputs": [
        {
          "output_type": "execute_result",
          "data": {
            "text/plain": [
              "<matplotlib.axes._subplots.AxesSubplot at 0x7f765e2b7a90>"
            ]
          },
          "metadata": {},
          "execution_count": 10
        },
        {
          "output_type": "display_data",
          "data": {
            "image/png": "[encoded data removed]",
            "text/plain": [
              "<Figure size 432x288 with 1 Axes>"
            ]
          },
          "metadata": {
            "needs_background": "light"
          }
        }
      ]
    },
    {
      "cell_type": "code",
      "metadata": {
        "colab": {
          "base_uri": "https://localhost:8080/",
          "height": 337
        },
        "id": "EgRD4kZfn1ga",
        "outputId": "2a6182f7-913c-463c-b1e3-7bef63b1ee86"
      },
      "source": [
        "pd.crosstab(df['Subscription Status'],df['Estado'], margins=True,margins_name='Total').sort_values(by='Total', axis=1, ascending = False )"
      ],
      "execution_count": 11,
      "outputs": [
        {
          "output_type": "execute_result",
          "data": {
            "text/html": [
              "<div>\n",
              "<style scoped>\n",
              "    .dataframe tbody tr th:only-of-type {\n",
              "        vertical-align: middle;\n",
              "    }\n",
              "\n",
              "    .dataframe tbody tr th {\n",
              "        vertical-align: top;\n",
              "    }\n",
              "\n",
              "    .dataframe thead th {\n",
              "        text-align: right;\n",
              "    }\n",
              "</style>\n",
              "<table border=\"1\" class=\"dataframe\">\n",
              "  <thead>\n",
              "    <tr style=\"text-align: right;\">\n",
              "      <th>Estado</th>\n",
              "      <th>Total</th>\n",
              "      <th>São Paulo</th>\n",
              "      <th>Rio Grande do Sul</th>\n",
              "      <th>Minas Gerais</th>\n",
              "      <th>Santa Catarina</th>\n",
              "      <th>Paraná</th>\n",
              "      <th>Rio de Janeiro</th>\n",
              "      <th>Bahia</th>\n",
              "      <th>Mato Grosso</th>\n",
              "      <th>Goiás</th>\n",
              "      <th>Pernambuco</th>\n",
              "      <th>Mato Grosso do Sul</th>\n",
              "      <th>Rondônia</th>\n",
              "      <th>Espírito Santo</th>\n",
              "      <th>Pará</th>\n",
              "      <th>Tocantins</th>\n",
              "      <th>Paraiba</th>\n",
              "      <th>Alagoas</th>\n",
              "      <th>Maranhão</th>\n",
              "      <th>Distrito Federal</th>\n",
              "      <th>Westeros</th>\n",
              "      <th>Rio Grande do Norte</th>\n",
              "      <th>Ceará</th>\n",
              "      <th>Amazonas</th>\n",
              "      <th>Roraima</th>\n",
              "      <th>Acre</th>\n",
              "      <th>Sergipe</th>\n",
              "    </tr>\n",
              "    <tr>\n",
              "      <th>Subscription Status</th>\n",
              "      <th></th>\n",
              "      <th></th>\n",
              "      <th></th>\n",
              "      <th></th>\n",
              "      <th></th>\n",
              "      <th></th>\n",
              "      <th></th>\n",
              "      <th></th>\n",
              "      <th></th>\n",
              "      <th></th>\n",
              "      <th></th>\n",
              "      <th></th>\n",
              "      <th></th>\n",
              "      <th></th>\n",
              "      <th></th>\n",
              "      <th></th>\n",
              "      <th></th>\n",
              "      <th></th>\n",
              "      <th></th>\n",
              "      <th></th>\n",
              "      <th></th>\n",
              "      <th></th>\n",
              "      <th></th>\n",
              "      <th></th>\n",
              "      <th></th>\n",
              "      <th></th>\n",
              "      <th></th>\n",
              "    </tr>\n",
              "  </thead>\n",
              "  <tbody>\n",
              "    <tr>\n",
              "      <th>ACTIVE</th>\n",
              "      <td>370</td>\n",
              "      <td>86</td>\n",
              "      <td>48</td>\n",
              "      <td>40</td>\n",
              "      <td>41</td>\n",
              "      <td>43</td>\n",
              "      <td>18</td>\n",
              "      <td>14</td>\n",
              "      <td>15</td>\n",
              "      <td>13</td>\n",
              "      <td>9</td>\n",
              "      <td>9</td>\n",
              "      <td>4</td>\n",
              "      <td>7</td>\n",
              "      <td>4</td>\n",
              "      <td>7</td>\n",
              "      <td>4</td>\n",
              "      <td>1</td>\n",
              "      <td>1</td>\n",
              "      <td>4</td>\n",
              "      <td>0</td>\n",
              "      <td>1</td>\n",
              "      <td>1</td>\n",
              "      <td>0</td>\n",
              "      <td>0</td>\n",
              "      <td>0</td>\n",
              "      <td>0</td>\n",
              "    </tr>\n",
              "    <tr>\n",
              "      <th>CANCEL QUEUED</th>\n",
              "      <td>6</td>\n",
              "      <td>0</td>\n",
              "      <td>2</td>\n",
              "      <td>0</td>\n",
              "      <td>1</td>\n",
              "      <td>0</td>\n",
              "      <td>0</td>\n",
              "      <td>1</td>\n",
              "      <td>2</td>\n",
              "      <td>0</td>\n",
              "      <td>0</td>\n",
              "      <td>0</td>\n",
              "      <td>0</td>\n",
              "      <td>0</td>\n",
              "      <td>0</td>\n",
              "      <td>0</td>\n",
              "      <td>0</td>\n",
              "      <td>0</td>\n",
              "      <td>0</td>\n",
              "      <td>0</td>\n",
              "      <td>0</td>\n",
              "      <td>0</td>\n",
              "      <td>0</td>\n",
              "      <td>0</td>\n",
              "      <td>0</td>\n",
              "      <td>0</td>\n",
              "      <td>0</td>\n",
              "    </tr>\n",
              "    <tr>\n",
              "      <th>CANCELED</th>\n",
              "      <td>1597</td>\n",
              "      <td>336</td>\n",
              "      <td>198</td>\n",
              "      <td>185</td>\n",
              "      <td>159</td>\n",
              "      <td>100</td>\n",
              "      <td>127</td>\n",
              "      <td>105</td>\n",
              "      <td>77</td>\n",
              "      <td>57</td>\n",
              "      <td>40</td>\n",
              "      <td>25</td>\n",
              "      <td>26</td>\n",
              "      <td>23</td>\n",
              "      <td>24</td>\n",
              "      <td>20</td>\n",
              "      <td>15</td>\n",
              "      <td>15</td>\n",
              "      <td>14</td>\n",
              "      <td>8</td>\n",
              "      <td>15</td>\n",
              "      <td>10</td>\n",
              "      <td>6</td>\n",
              "      <td>5</td>\n",
              "      <td>3</td>\n",
              "      <td>3</td>\n",
              "      <td>1</td>\n",
              "    </tr>\n",
              "    <tr>\n",
              "      <th>DRAFT</th>\n",
              "      <td>54</td>\n",
              "      <td>13</td>\n",
              "      <td>6</td>\n",
              "      <td>2</td>\n",
              "      <td>5</td>\n",
              "      <td>7</td>\n",
              "      <td>2</td>\n",
              "      <td>2</td>\n",
              "      <td>1</td>\n",
              "      <td>1</td>\n",
              "      <td>9</td>\n",
              "      <td>0</td>\n",
              "      <td>1</td>\n",
              "      <td>0</td>\n",
              "      <td>0</td>\n",
              "      <td>0</td>\n",
              "      <td>0</td>\n",
              "      <td>1</td>\n",
              "      <td>1</td>\n",
              "      <td>3</td>\n",
              "      <td>0</td>\n",
              "      <td>0</td>\n",
              "      <td>0</td>\n",
              "      <td>0</td>\n",
              "      <td>0</td>\n",
              "      <td>0</td>\n",
              "      <td>0</td>\n",
              "    </tr>\n",
              "    <tr>\n",
              "      <th>Total</th>\n",
              "      <td>2027</td>\n",
              "      <td>435</td>\n",
              "      <td>254</td>\n",
              "      <td>227</td>\n",
              "      <td>206</td>\n",
              "      <td>150</td>\n",
              "      <td>147</td>\n",
              "      <td>122</td>\n",
              "      <td>95</td>\n",
              "      <td>71</td>\n",
              "      <td>58</td>\n",
              "      <td>34</td>\n",
              "      <td>31</td>\n",
              "      <td>30</td>\n",
              "      <td>28</td>\n",
              "      <td>27</td>\n",
              "      <td>19</td>\n",
              "      <td>17</td>\n",
              "      <td>16</td>\n",
              "      <td>15</td>\n",
              "      <td>15</td>\n",
              "      <td>11</td>\n",
              "      <td>7</td>\n",
              "      <td>5</td>\n",
              "      <td>3</td>\n",
              "      <td>3</td>\n",
              "      <td>1</td>\n",
              "    </tr>\n",
              "  </tbody>\n",
              "</table>\n",
              "</div>"
            ],
            "text/plain": [
              "Estado               Total  São Paulo  ...  Acre  Sergipe\n",
              "Subscription Status                    ...               \n",
              "ACTIVE                 370         86  ...     0        0\n",
              "CANCEL QUEUED            6          0  ...     0        0\n",
              "CANCELED              1597        336  ...     3        1\n",
              "DRAFT                   54         13  ...     0        0\n",
              "Total                 2027        435  ...     3        1\n",
              "\n",
              "[5 rows x 27 columns]"
            ]
          },
          "metadata": {},
          "execution_count": 11
        }
      ]
    },
    {
      "cell_type": "code",
      "metadata": {
        "id": "r1bchTo8n1YY",
        "colab": {
          "base_uri": "https://localhost:8080/",
          "height": 387
        },
        "outputId": "0398be91-a249-462c-9110-a4d9428d3f6f"
      },
      "source": [
        "pd.crosstab(df['Estado'],df['Plan Code'], margins=True,margins_name='Total').sort_values(by = 'Total', axis=0,ascending=False).head(10)"
      ],
      "execution_count": 12,
      "outputs": [
        {
          "output_type": "execute_result",
          "data": {
            "text/html": [
              "<div>\n",
              "<style scoped>\n",
              "    .dataframe tbody tr th:only-of-type {\n",
              "        vertical-align: middle;\n",
              "    }\n",
              "\n",
              "    .dataframe tbody tr th {\n",
              "        vertical-align: top;\n",
              "    }\n",
              "\n",
              "    .dataframe thead th {\n",
              "        text-align: right;\n",
              "    }\n",
              "</style>\n",
              "<table border=\"1\" class=\"dataframe\">\n",
              "  <thead>\n",
              "    <tr style=\"text-align: right;\">\n",
              "      <th>Plan Code</th>\n",
              "      <th>plano A</th>\n",
              "      <th>plano B</th>\n",
              "      <th>plano C</th>\n",
              "      <th>plano D</th>\n",
              "      <th>plano E</th>\n",
              "      <th>Total</th>\n",
              "    </tr>\n",
              "    <tr>\n",
              "      <th>Estado</th>\n",
              "      <th></th>\n",
              "      <th></th>\n",
              "      <th></th>\n",
              "      <th></th>\n",
              "      <th></th>\n",
              "      <th></th>\n",
              "    </tr>\n",
              "  </thead>\n",
              "  <tbody>\n",
              "    <tr>\n",
              "      <th>Total</th>\n",
              "      <td>682</td>\n",
              "      <td>450</td>\n",
              "      <td>413</td>\n",
              "      <td>387</td>\n",
              "      <td>95</td>\n",
              "      <td>2027</td>\n",
              "    </tr>\n",
              "    <tr>\n",
              "      <th>São Paulo</th>\n",
              "      <td>144</td>\n",
              "      <td>87</td>\n",
              "      <td>89</td>\n",
              "      <td>91</td>\n",
              "      <td>24</td>\n",
              "      <td>435</td>\n",
              "    </tr>\n",
              "    <tr>\n",
              "      <th>Rio Grande do Sul</th>\n",
              "      <td>81</td>\n",
              "      <td>56</td>\n",
              "      <td>66</td>\n",
              "      <td>45</td>\n",
              "      <td>6</td>\n",
              "      <td>254</td>\n",
              "    </tr>\n",
              "    <tr>\n",
              "      <th>Minas Gerais</th>\n",
              "      <td>85</td>\n",
              "      <td>55</td>\n",
              "      <td>41</td>\n",
              "      <td>33</td>\n",
              "      <td>13</td>\n",
              "      <td>227</td>\n",
              "    </tr>\n",
              "    <tr>\n",
              "      <th>Santa Catarina</th>\n",
              "      <td>81</td>\n",
              "      <td>48</td>\n",
              "      <td>30</td>\n",
              "      <td>37</td>\n",
              "      <td>10</td>\n",
              "      <td>206</td>\n",
              "    </tr>\n",
              "    <tr>\n",
              "      <th>Paraná</th>\n",
              "      <td>56</td>\n",
              "      <td>47</td>\n",
              "      <td>26</td>\n",
              "      <td>16</td>\n",
              "      <td>5</td>\n",
              "      <td>150</td>\n",
              "    </tr>\n",
              "    <tr>\n",
              "      <th>Rio de Janeiro</th>\n",
              "      <td>30</td>\n",
              "      <td>38</td>\n",
              "      <td>35</td>\n",
              "      <td>34</td>\n",
              "      <td>10</td>\n",
              "      <td>147</td>\n",
              "    </tr>\n",
              "    <tr>\n",
              "      <th>Bahia</th>\n",
              "      <td>37</td>\n",
              "      <td>12</td>\n",
              "      <td>36</td>\n",
              "      <td>30</td>\n",
              "      <td>7</td>\n",
              "      <td>122</td>\n",
              "    </tr>\n",
              "    <tr>\n",
              "      <th>Mato Grosso</th>\n",
              "      <td>30</td>\n",
              "      <td>16</td>\n",
              "      <td>16</td>\n",
              "      <td>28</td>\n",
              "      <td>5</td>\n",
              "      <td>95</td>\n",
              "    </tr>\n",
              "    <tr>\n",
              "      <th>Goiás</th>\n",
              "      <td>25</td>\n",
              "      <td>16</td>\n",
              "      <td>13</td>\n",
              "      <td>12</td>\n",
              "      <td>5</td>\n",
              "      <td>71</td>\n",
              "    </tr>\n",
              "  </tbody>\n",
              "</table>\n",
              "</div>"
            ],
            "text/plain": [
              "Plan Code          plano A  plano B  plano C  plano D  plano E  Total\n",
              "Estado                                                               \n",
              "Total                  682      450      413      387       95   2027\n",
              "São Paulo              144       87       89       91       24    435\n",
              "Rio Grande do Sul       81       56       66       45        6    254\n",
              "Minas Gerais            85       55       41       33       13    227\n",
              "Santa Catarina          81       48       30       37       10    206\n",
              "Paraná                  56       47       26       16        5    150\n",
              "Rio de Janeiro          30       38       35       34       10    147\n",
              "Bahia                   37       12       36       30        7    122\n",
              "Mato Grosso             30       16       16       28        5     95\n",
              "Goiás                   25       16       13       12        5     71"
            ]
          },
          "metadata": {},
          "execution_count": 12
        }
      ]
    },
    {
      "cell_type": "code",
      "metadata": {
        "id": "6GJU4xYHn1RQ",
        "colab": {
          "base_uri": "https://localhost:8080/",
          "height": 233
        },
        "outputId": "9f547023-871c-4eb5-aeb4-318a3ed869cd"
      },
      "source": [
        "pd.crosstab(df['Subscription Status'],\n",
        "            df['Plan Code'], \n",
        "                            margins=True,\n",
        "                            margins_name='Total'\n",
        "                            ).sort_values(by = 'Total', \n",
        "                                          axis=0,ascending=False\n",
        "                                          ).head(15)"
      ],
      "execution_count": 13,
      "outputs": [
        {
          "output_type": "execute_result",
          "data": {
            "text/html": [
              "<div>\n",
              "<style scoped>\n",
              "    .dataframe tbody tr th:only-of-type {\n",
              "        vertical-align: middle;\n",
              "    }\n",
              "\n",
              "    .dataframe tbody tr th {\n",
              "        vertical-align: top;\n",
              "    }\n",
              "\n",
              "    .dataframe thead th {\n",
              "        text-align: right;\n",
              "    }\n",
              "</style>\n",
              "<table border=\"1\" class=\"dataframe\">\n",
              "  <thead>\n",
              "    <tr style=\"text-align: right;\">\n",
              "      <th>Plan Code</th>\n",
              "      <th>plano A</th>\n",
              "      <th>plano B</th>\n",
              "      <th>plano C</th>\n",
              "      <th>plano D</th>\n",
              "      <th>plano E</th>\n",
              "      <th>Total</th>\n",
              "    </tr>\n",
              "    <tr>\n",
              "      <th>Subscription Status</th>\n",
              "      <th></th>\n",
              "      <th></th>\n",
              "      <th></th>\n",
              "      <th></th>\n",
              "      <th></th>\n",
              "      <th></th>\n",
              "    </tr>\n",
              "  </thead>\n",
              "  <tbody>\n",
              "    <tr>\n",
              "      <th>Total</th>\n",
              "      <td>682</td>\n",
              "      <td>450</td>\n",
              "      <td>413</td>\n",
              "      <td>387</td>\n",
              "      <td>95</td>\n",
              "      <td>2027</td>\n",
              "    </tr>\n",
              "    <tr>\n",
              "      <th>CANCELED</th>\n",
              "      <td>532</td>\n",
              "      <td>362</td>\n",
              "      <td>326</td>\n",
              "      <td>298</td>\n",
              "      <td>79</td>\n",
              "      <td>1597</td>\n",
              "    </tr>\n",
              "    <tr>\n",
              "      <th>ACTIVE</th>\n",
              "      <td>136</td>\n",
              "      <td>78</td>\n",
              "      <td>71</td>\n",
              "      <td>74</td>\n",
              "      <td>11</td>\n",
              "      <td>370</td>\n",
              "    </tr>\n",
              "    <tr>\n",
              "      <th>DRAFT</th>\n",
              "      <td>13</td>\n",
              "      <td>9</td>\n",
              "      <td>15</td>\n",
              "      <td>12</td>\n",
              "      <td>5</td>\n",
              "      <td>54</td>\n",
              "    </tr>\n",
              "    <tr>\n",
              "      <th>CANCEL QUEUED</th>\n",
              "      <td>1</td>\n",
              "      <td>1</td>\n",
              "      <td>1</td>\n",
              "      <td>3</td>\n",
              "      <td>0</td>\n",
              "      <td>6</td>\n",
              "    </tr>\n",
              "  </tbody>\n",
              "</table>\n",
              "</div>"
            ],
            "text/plain": [
              "Plan Code            plano A  plano B  plano C  plano D  plano E  Total\n",
              "Subscription Status                                                    \n",
              "Total                    682      450      413      387       95   2027\n",
              "CANCELED                 532      362      326      298       79   1597\n",
              "ACTIVE                   136       78       71       74       11    370\n",
              "DRAFT                     13        9       15       12        5     54\n",
              "CANCEL QUEUED              1        1        1        3        0      6"
            ]
          },
          "metadata": {},
          "execution_count": 13
        }
      ]
    },
    {
      "cell_type": "markdown",
      "metadata": {
        "id": "6xtB23aewRqB"
      },
      "source": [
        "####Analysis of people who canceled the plan"
      ]
    },
    {
      "cell_type": "code",
      "metadata": {
        "id": "RpeT1TcCn1OY"
      },
      "source": [
        "df_canc = df[df['Subscription Status']=='CANCELED']"
      ],
      "execution_count": 14,
      "outputs": []
    },
    {
      "cell_type": "code",
      "metadata": {
        "id": "iFIm62gFn1Lz",
        "colab": {
          "base_uri": "https://localhost:8080/"
        },
        "outputId": "ee591d63-0cdc-4ecf-a450-306b2d72f4bb"
      },
      "source": [
        "df_canc['safra'] = df_canc['Subscription Canceled At'].apply(lambda x: pd.to_datetime(x, format ='%Y-%m').strftime('%y-%m'))"
      ],
      "execution_count": 15,
      "outputs": [
        {
          "output_type": "stream",
          "name": "stderr",
          "text": [
            "/usr/local/lib/python3.7/dist-packages/ipykernel_launcher.py:1: SettingWithCopyWarning: \n",
            "A value is trying to be set on a copy of a slice from a DataFrame.\n",
            "Try using .loc[row_indexer,col_indexer] = value instead\n",
            "\n",
            "See the caveats in the documentation: https://pandas.pydata.org/pandas-docs/stable/user_guide/indexing.html#returning-a-view-versus-a-copy\n",
            "  \"\"\"Entry point for launching an IPython kernel.\n"
          ]
        }
      ]
    },
    {
      "cell_type": "code",
      "metadata": {
        "id": "MZ_BFDGXn1JN",
        "colab": {
          "base_uri": "https://localhost:8080/"
        },
        "outputId": "04f688d8-c19e-4fc1-f750-ab609494b765"
      },
      "source": [
        "print('-'*10, 'Number of cancellations per month', '-'*10)\n",
        "df_canc.groupby('safra')['Subscription Status'].value_counts()"
      ],
      "execution_count": 16,
      "outputs": [
        {
          "output_type": "stream",
          "name": "stdout",
          "text": [
            "---------- Number of cancellations per month ----------\n"
          ]
        },
        {
          "output_type": "execute_result",
          "data": {
            "text/plain": [
              "safra  Subscription Status\n",
              "21-06  CANCELED                10\n",
              "21-07  CANCELED               519\n",
              "21-08  CANCELED                 1\n",
              "21-09  CANCELED               545\n",
              "21-10  CANCELED               522\n",
              "Name: Subscription Status, dtype: int64"
            ]
          },
          "metadata": {},
          "execution_count": 16
        }
      ]
    },
    {
      "cell_type": "code",
      "metadata": {
        "colab": {
          "base_uri": "https://localhost:8080/",
          "height": 297
        },
        "id": "c0QJSs_qJs-C",
        "outputId": "46236487-7ce3-4137-9e6f-f094f599ee3d"
      },
      "source": [
        "df_canc.groupby('safra')['safra'].count().plot()"
      ],
      "execution_count": 17,
      "outputs": [
        {
          "output_type": "execute_result",
          "data": {
            "text/plain": [
              "<matplotlib.axes._subplots.AxesSubplot at 0x7f765fe1cc10>"
            ]
          },
          "metadata": {},
          "execution_count": 17
        },
        {
          "output_type": "display_data",
          "data": {
            "image/png": "[encoded data removed]",
            "text/plain": [
              "<Figure size 432x288 with 1 Axes>"
            ]
          },
          "metadata": {
            "needs_background": "light"
          }
        }
      ]
    },
    {
      "cell_type": "code",
      "metadata": {
        "colab": {
          "base_uri": "https://localhost:8080/"
        },
        "id": "8iHWyJecKc9P",
        "outputId": "86c1ad2c-f22a-49bc-8dad-99d9531a46c5"
      },
      "source": [
        "print('-'*10, 'Number of people who canceled the plan ​​by region', '-'*10)\n",
        "df_canc.groupby('Estado')['Estado'].count().sort_values(\n",
        "                                                          ascending=False\n",
        "                                                          ).head(10)"
      ],
      "execution_count": 18,
      "outputs": [
        {
          "output_type": "stream",
          "name": "stdout",
          "text": [
            "---------- Number of people who canceled the plan ​​by region ----------\n"
          ]
        },
        {
          "output_type": "execute_result",
          "data": {
            "text/plain": [
              "Estado\n",
              "São Paulo            336\n",
              "Rio Grande do Sul    198\n",
              "Minas Gerais         185\n",
              "Santa Catarina       159\n",
              "Rio de Janeiro       127\n",
              "Bahia                105\n",
              "Paraná               100\n",
              "Mato Grosso           77\n",
              "Goiás                 57\n",
              "Pernambuco            40\n",
              "Name: Estado, dtype: int64"
            ]
          },
          "metadata": {},
          "execution_count": 18
        }
      ]
    },
    {
      "cell_type": "code",
      "metadata": {
        "colab": {
          "base_uri": "https://localhost:8080/",
          "height": 356
        },
        "id": "HJou_TepxvN4",
        "outputId": "da627c1e-2205-4a1a-83bc-d95688d1be44"
      },
      "source": [
        "plt.figure(figsize=(15,6))\n",
        "df_canc.groupby('Estado')['Estado'].count().sort_values(\n",
        "                                                          ascending=False\n",
        "                                                          ).head(15).plot(kind='barh')"
      ],
      "execution_count": 19,
      "outputs": [
        {
          "output_type": "execute_result",
          "data": {
            "text/plain": [
              "<matplotlib.axes._subplots.AxesSubplot at 0x7f765e8ee8d0>"
            ]
          },
          "metadata": {},
          "execution_count": 19
        },
        {
          "output_type": "display_data",
          "data": {
            "image/png": "[encoded data removed]",
            "text/plain": [
              "<Figure size 1080x432 with 1 Axes>"
            ]
          },
          "metadata": {
            "needs_background": "light"
          }
        }
      ]
    },
    {
      "cell_type": "code",
      "metadata": {
        "colab": {
          "base_uri": "https://localhost:8080/"
        },
        "id": "KVHtMQoFL7GI",
        "outputId": "0841ea03-6091-4f4e-b4df-1913a9727488"
      },
      "source": [
        "print( '* Reason for canceling the plan *','\\n')\n",
        "(df_canc.groupby(['Cancel Reason'])['Cancel Reason'].count()/df['Cancel Reason'].count()*100).sort_values(\n",
        "                                                          ascending=False\n",
        "                                                          ).head(5)"
      ],
      "execution_count": 20,
      "outputs": [
        {
          "output_type": "stream",
          "name": "stdout",
          "text": [
            "* Reason for canceling the plan * \n",
            "\n"
          ]
        },
        {
          "output_type": "execute_result",
          "data": {
            "text/plain": [
              "Cancel Reason\n",
              "PAYMENT FAILED    61.821585\n",
              "USER SUSPENDED    21.459763\n",
              "USER CANCELED      4.741110\n",
              "ADMIN CANCELED     4.429195\n",
              "USER PENALTY       4.179663\n",
              "Name: Cancel Reason, dtype: float64"
            ]
          },
          "metadata": {},
          "execution_count": 20
        }
      ]
    },
    {
      "cell_type": "code",
      "metadata": {
        "id": "7gsPHRJ9kw0h",
        "colab": {
          "base_uri": "https://localhost:8080/",
          "height": 282
        },
        "outputId": "15bf6ca7-9109-486f-f997-29987826a4c4"
      },
      "source": [
        "df_canc.groupby(['Cancel Reason'])['Cancel Reason'].count().sort_values(\n",
        "                                                          ascending=False\n",
        "                                                          ).head(5).plot(kind='barh')"
      ],
      "execution_count": 21,
      "outputs": [
        {
          "output_type": "execute_result",
          "data": {
            "text/plain": [
              "<matplotlib.axes._subplots.AxesSubplot at 0x7f765e2ce0d0>"
            ]
          },
          "metadata": {},
          "execution_count": 21
        },
        {
          "output_type": "display_data",
          "data": {
            "image/png": "[encoded data removed]",
            "text/plain": [
              "<Figure size 432x288 with 1 Axes>"
            ]
          },
          "metadata": {
            "needs_background": "light"
          }
        }
      ]
    },
    {
      "cell_type": "markdown",
      "metadata": {
        "id": "yZYcxbUey9Gr"
      },
      "source": [
        "##Feature selection"
      ]
    },
    {
      "cell_type": "code",
      "metadata": {
        "id": "B1MKVfKvkwxz"
      },
      "source": [
        "df.drop(['Profile ID', 'Profile Created At', 'Profile Deleted At', \n",
        "       'Payment Method', 'Last Charge At', 'Next Charge At', \n",
        "       'Subscription Canceled At', 'Subscripion Created At '],axis=1,inplace=True)"
      ],
      "execution_count": 22,
      "outputs": []
    },
    {
      "cell_type": "code",
      "metadata": {
        "id": "A4bAd0IqkwvW"
      },
      "source": [
        "df = df.fillna(0)\n",
        "df.replace({'PAYMENT FAILED':1, 'USER SUSPENDED':2,},inplace=True)\n",
        "df.replace([['ADMIN CANCELED',\n",
        "       'MOIP CANCELED', 'USER DELETED', 'USER PENALTY', 'USER CANCELED',\n",
        "       'CHARGEBACK', 'USER BANED']],3,inplace=True)"
      ],
      "execution_count": 23,
      "outputs": []
    },
    {
      "cell_type": "code",
      "metadata": {
        "id": "fhvuchra1Luf"
      },
      "source": [
        "df.replace({'ACTIVE':0, 'DRAFT':0, 'CANCELED':1, 'CANCEL QUEUED':0},inplace=True)"
      ],
      "execution_count": 24,
      "outputs": []
    },
    {
      "cell_type": "code",
      "metadata": {
        "id": "QvfN18aK3Mjn"
      },
      "source": [
        "df.replace({'plano D':1, 'plano A':2, 'plano B':3, 'plano C':4, 'plano E':5},inplace=True)"
      ],
      "execution_count": 25,
      "outputs": []
    },
    {
      "cell_type": "code",
      "metadata": {
        "id": "pg8fh24X4WVM"
      },
      "source": [
        "df.replace({'São Paulo':1, 'Rio Grande do Sul':2, 'Minas Gerais':3, 'Santa Catarina':4},inplace=True)\n",
        "df.replace([['Rio de Janeiro', 'Bahia' , 'Mato Grosso', 'Paraná',\n",
        "             'Goiás', 'Espírito Santo', 'Distrito Federal',\n",
        "             'Mato Grosso do Sul', 'Westeros', 'Roraima', 'Tocantins',\n",
        "             'Rio Grande do Norte', 'Rondônia', 'Paraiba', 'Maranhão',\n",
        "             'Amazonas', 'Pará', 'Alagoas', 'Pernambuco', 'Ceará', 'Acre',\n",
        "             'Sergipe']],5,inplace=True)"
      ],
      "execution_count": 26,
      "outputs": []
    },
    {
      "cell_type": "code",
      "metadata": {
        "colab": {
          "base_uri": "https://localhost:8080/",
          "height": 541
        },
        "id": "SH7O_hva44Qa",
        "outputId": "ea177223-fff6-4118-ba4f-53248f079705"
      },
      "source": [
        "#Analise da correlação entre as features\n",
        "#Analise da correlação entre as features com o target \n",
        "import matplotlib.pyplot as plt\n",
        "import seaborn as sn\n",
        "corrMatrix = df.corr()\n",
        "plt.figure(figsize=(11, 9))\n",
        "sn.heatmap(corrMatrix, annot=True)\n",
        "plt.show()"
      ],
      "execution_count": 27,
      "outputs": [
        {
          "output_type": "display_data",
          "data": {
            "image/png": "[encoded data removed]",
            "text/plain": [
              "<Figure size 792x648 with 2 Axes>"
            ]
          },
          "metadata": {
            "needs_background": "light"
          }
        }
      ]
    },
    {
      "cell_type": "code",
      "metadata": {
        "colab": {
          "base_uri": "https://localhost:8080/"
        },
        "id": "GblqrrJE7wQA",
        "outputId": "78b5996e-c5b0-4b0c-ff44-68190becfb3a"
      },
      "source": [
        "df.columns"
      ],
      "execution_count": 28,
      "outputs": [
        {
          "output_type": "execute_result",
          "data": {
            "text/plain": [
              "Index(['Plan Code', 'Charge Value', 'Subscription Status', 'Charge Day',\n",
              "       'Cancel Reason', 'Estado'],\n",
              "      dtype='object')"
            ]
          },
          "metadata": {},
          "execution_count": 28
        }
      ]
    },
    {
      "cell_type": "code",
      "metadata": {
        "id": "hCvF_Rr57zAv"
      },
      "source": [
        "X = df.drop('Subscription Status',1)\n",
        "y = df['Subscription Status']"
      ],
      "execution_count": 29,
      "outputs": []
    },
    {
      "cell_type": "code",
      "metadata": {
        "id": "ZGtSpW8skwmS",
        "colab": {
          "base_uri": "https://localhost:8080/",
          "height": 158
        },
        "outputId": "99ac1636-09b2-4319-9c10-26b86bfa0b25"
      },
      "source": [
        "'''!pip install boruta\n",
        "from boruta import BorutaPy\n",
        "from sklearn.ensemble import RandomForestRegressor\n",
        "import numpy as np\n",
        "###initialize Boruta\n",
        " \n",
        "def boruta(X,y):\n",
        "  forest = RandomForestRegressor(\n",
        "   n_jobs = -1, \n",
        "   max_depth = 5)\n",
        "  boruta = BorutaPy(\n",
        "   estimator = forest, \n",
        "   n_estimators = 'auto',\n",
        "   max_iter = 100 # number of trials to perform\n",
        "                  )\n",
        "### fit Boruta (it accepts np.array, not pd.DataFrame)\n",
        "  boruta.fit(np.array(X), np.array(y))\n",
        "### print results\n",
        "  green_area = X.columns[boruta.support_].to_list()\n",
        "  blue_area = X.columns[boruta.support_weak_].to_list()\n",
        "  print('features in the green area:', green_area)\n",
        "  print('='*80)\n",
        "  print('features in the blue area:', blue_area)\n",
        "  return green_area\n",
        " \n",
        " \n",
        " \n",
        " \n",
        "boruta_feauter = boruta(X = X, y = y)'''"
      ],
      "execution_count": 30,
      "outputs": [
        {
          "output_type": "execute_result",
          "data": {
            "application/vnd.google.colaboratory.intrinsic+json": {
              "type": "string"
            },
            "text/plain": [
              "\"!pip install boruta\\nfrom boruta import BorutaPy\\nfrom sklearn.ensemble import RandomForestRegressor\\nimport numpy as np\\n###initialize Boruta\\n \\ndef boruta(X,y):\\n  forest = RandomForestRegressor(\\n   n_jobs = -1, \\n   max_depth = 5)\\n  boruta = BorutaPy(\\n   estimator = forest, \\n   n_estimators = 'auto',\\n   max_iter = 100 # number of trials to perform\\n                  )\\n### fit Boruta (it accepts np.array, not pd.DataFrame)\\n  boruta.fit(np.array(X), np.array(y))\\n### print results\\n  green_area = X.columns[boruta.support_].to_list()\\n  blue_area = X.columns[boruta.support_weak_].to_list()\\n  print('features in the green area:', green_area)\\n  print('='*80)\\n  print('features in the blue area:', blue_area)\\n  return green_area\\n \\n \\n \\n \\nboruta_feauter = boruta(X = X, y = y)\""
            ]
          },
          "metadata": {},
          "execution_count": 30
        }
      ]
    },
    {
      "cell_type": "code",
      "metadata": {
        "id": "MPPYQQBGkwjJ"
      },
      "source": [
        "## Features in the green area: ['Plan Code', 'Charge Value', 'Charge Day', 'Cancel Reason']"
      ],
      "execution_count": 31,
      "outputs": []
    },
    {
      "cell_type": "markdown",
      "metadata": {
        "id": "32LApbFX_ALe"
      },
      "source": [
        "##Create model prediction"
      ]
    },
    {
      "cell_type": "markdown",
      "metadata": {
        "id": "TBtVkz7_La6P"
      },
      "source": [
        "###XGBoost modelo 1"
      ]
    },
    {
      "cell_type": "code",
      "metadata": {
        "id": "bhOejlwTEX5Q",
        "colab": {
          "base_uri": "https://localhost:8080/",
          "height": 193
        },
        "outputId": "e72f68c6-2eb2-4e06-b6a2-6f2f87229c01"
      },
      "source": [
        "'''df_train = X\n",
        "targ = y\n",
        "\n",
        "# define model\n",
        "alg = XGBClassifier()\n",
        "# define evaluation\n",
        "cv = RepeatedStratifiedKFold(n_splits=10, n_repeats=3, random_state=1)\n",
        "\n",
        "# define search space\n",
        "space = {'silent': [False],\n",
        "        'max_depth': [6, 10, 15, 20],\n",
        "        'learning_rate': [0.001, 0.01, 0.1, 0.2, 0,3],\n",
        "        'subsample': [0.5, 0.6, 0.7, 0.8, 0.9, 1.0],\n",
        "        'colsample_bytree': [0.4, 0.5, 0.6, 0.7, 0.8, 0.9, 1.0],\n",
        "        'colsample_bylevel': [0.4, 0.5, 0.6, 0.7, 0.8, 0.9, 1.0],\n",
        "        'min_child_weight': [0.5, 1.0, 3.0, 5.0, 7.0, 10.0],\n",
        "        'gamma': [0, 0.25, 0.5, 1.0],\n",
        "        'reg_lambda': [0.1, 1.0, 5.0, 10.0, 50.0, 100.0],\n",
        "        'n_estimators': [100]}\n",
        "\n",
        "# define search\n",
        "#search = RandomizedSearchCV(model_1, space, n_iter=500, scoring='accuracy', n_jobs=-1, cv=cv, random_state=1)\n",
        "search= RandomizedSearchCV(alg,space,scoring='roc_auc',n_jobs=-1,cv=cv)\n",
        "\n",
        "# execute search\n",
        "result = search.fit(df_train, targ)\n",
        "# summarize result\n",
        "print('Best Score: %s' % result.best_score_)\n",
        "print('Best Hyperparameters: %s' % result.best_params_)'''"
      ],
      "execution_count": 32,
      "outputs": [
        {
          "output_type": "execute_result",
          "data": {
            "application/vnd.google.colaboratory.intrinsic+json": {
              "type": "string"
            },
            "text/plain": [
              "\"df_train = X\\ntarg = y\\n\\n# define model\\nalg = XGBClassifier()\\n# define evaluation\\ncv = RepeatedStratifiedKFold(n_splits=10, n_repeats=3, random_state=1)\\n\\n# define search space\\nspace = {'silent': [False],\\n        'max_depth': [6, 10, 15, 20],\\n        'learning_rate': [0.001, 0.01, 0.1, 0.2, 0,3],\\n        'subsample': [0.5, 0.6, 0.7, 0.8, 0.9, 1.0],\\n        'colsample_bytree': [0.4, 0.5, 0.6, 0.7, 0.8, 0.9, 1.0],\\n        'colsample_bylevel': [0.4, 0.5, 0.6, 0.7, 0.8, 0.9, 1.0],\\n        'min_child_weight': [0.5, 1.0, 3.0, 5.0, 7.0, 10.0],\\n        'gamma': [0, 0.25, 0.5, 1.0],\\n        'reg_lambda': [0.1, 1.0, 5.0, 10.0, 50.0, 100.0],\\n        'n_estimators': [100]}\\n\\n# define search\\n#search = RandomizedSearchCV(model_1, space, n_iter=500, scoring='accuracy', n_jobs=-1, cv=cv, random_state=1)\\nsearch= RandomizedSearchCV(alg,space,scoring='roc_auc',n_jobs=-1,cv=cv)\\n\\n# execute search\\nresult = search.fit(df_train, targ)\\n# summarize result\\nprint('Best Score: %s' % result.best_score_)\\nprint('Best Hyperparameters: %s' % result.best_params_)\""
            ]
          },
          "metadata": {},
          "execution_count": 32
        }
      ]
    },
    {
      "cell_type": "code",
      "metadata": {
        "id": "nalsR0gjEmR_"
      },
      "source": [
        "#Best Score: 0.9992826671139923\n",
        "#Best Hyperparameters: {'subsample': 0.6, 'silent': False, 'reg_lambda': 1.0, 'n_estimators': 100,\n",
        "#                       'min_child_weight': 7.0, 'max_depth': 20, 'learning_rate': 0.2, 'gamma': 0, \n",
        " #                      'colsample_bytree': 0.5, 'colsample_bylevel': 0.9}"
      ],
      "execution_count": 33,
      "outputs": []
    },
    {
      "cell_type": "code",
      "metadata": {
        "colab": {
          "base_uri": "https://localhost:8080/",
          "height": 839
        },
        "id": "U2fmvbUpLN-E",
        "outputId": "0dcd1042-87ca-4204-d671-0d79c51d7981"
      },
      "source": [
        "X = X\n",
        "y = y\n",
        "resultados = []\n",
        "\n",
        "numero_repeticoes = 5\n",
        "algoritmos = []\n",
        "\n",
        "for k in range(0,numero_repeticoes):\n",
        "        metricas_cada_validacao = []\n",
        "        i = 0\n",
        "        skf = StratifiedKFold(n_splits=2+k, random_state=None)\n",
        "        for train_index, val_index in skf.split(X,y):\n",
        "            i = 1 + i\n",
        "            X_train, X_test = X.iloc[train_index], X.iloc[val_index]\n",
        "            y_train, y_test = y.iloc[train_index], y.iloc[val_index]\n",
        "            modelo_01 = XGBClassifier(subsample= 0.6, silent= False, reg_lambda= 1.0, n_estimators= 100,\n",
        "                          min_child_weight= 7.0, max_depth= 20, learning_rate= 0.01, gamma= 0, \n",
        "                          colsample_bytree= 0.5, colsample_bylevel= 0.9)\n",
        "            modelo_01.fit(X_train,y_train)\n",
        "            algoritmos.append(modelo_01)\n",
        "            metricas_cada_validacao.append(metricas(modelo_01.predict_proba(X)[:,1],y))\n",
        "            print(\"Resultado da Validação nº\",i,\":\",metricas(modelo_01.predict_proba(X)[:,0],y))\n",
        "        resultados.append(pd.DataFrame({'Validacao '+str(k):pd.concat(metricas_cada_validacao).apply(np.mean,axis=0)}))\n",
        "pd.concat(resultados,axis=1)"
      ],
      "execution_count": 34,
      "outputs": [
        {
          "output_type": "stream",
          "name": "stdout",
          "text": [
            "Resultado da Validação nº 1 :          KS       ROC      GINI\n",
            "0  98.60465  0.008177 -0.983647\n",
            "Resultado da Validação nº 2 :          KS       ROC      GINI\n",
            "0  98.60465  0.005422 -0.989156\n",
            "Resultado da Validação nº 1 :          KS      ROC     GINI\n",
            "0  98.60465  0.00936 -0.98128\n",
            "Resultado da Validação nº 2 :          KS       ROC      GINI\n",
            "0  98.60465  0.004982 -0.990035\n",
            "Resultado da Validação nº 3 :          KS       ROC      GINI\n",
            "0  98.60465  0.007768 -0.984464\n",
            "Resultado da Validação nº 1 :          KS       ROC      GINI\n",
            "0  98.60465  0.008408 -0.983184\n",
            "Resultado da Validação nº 2 :          KS       ROC      GINI\n",
            "0  98.60465  0.007222 -0.985556\n",
            "Resultado da Validação nº 3 :          KS       ROC      GINI\n",
            "0  98.60465  0.009734 -0.980532\n",
            "Resultado da Validação nº 4 :          KS       ROC      GINI\n",
            "0  98.60465  0.006617 -0.986766\n",
            "Resultado da Validação nº 1 :          KS       ROC     GINI\n",
            "0  98.60465  0.007755 -0.98449\n",
            "Resultado da Validação nº 2 :          KS       ROC      GINI\n",
            "0  98.60465  0.008824 -0.982352\n",
            "Resultado da Validação nº 3 :          KS       ROC      GINI\n",
            "0  98.60465  0.005608 -0.988784\n",
            "Resultado da Validação nº 4 :          KS      ROC      GINI\n",
            "0  98.60465  0.01096 -0.978081\n",
            "Resultado da Validação nº 5 :          KS       ROC      GINI\n",
            "0  98.60465  0.003723 -0.992554\n",
            "Resultado da Validação nº 1 :          KS       ROC      GINI\n",
            "0  98.60465  0.008748 -0.982505\n",
            "Resultado da Validação nº 2 :          KS       ROC      GINI\n",
            "0  98.60465  0.008483 -0.983034\n",
            "Resultado da Validação nº 3 :          KS       ROC      GINI\n",
            "0  98.60465  0.007388 -0.985224\n",
            "Resultado da Validação nº 4 :          KS       ROC      GINI\n",
            "0  98.60465  0.005514 -0.988972\n",
            "Resultado da Validação nº 5 :          KS       ROC      GINI\n",
            "0  98.60465  0.010081 -0.979837\n",
            "Resultado da Validação nº 6 :          KS      ROC      GINI\n",
            "0  98.60465  0.00341 -0.993181\n"
          ]
        },
        {
          "output_type": "execute_result",
          "data": {
            "text/html": [
              "<div>\n",
              "<style scoped>\n",
              "    .dataframe tbody tr th:only-of-type {\n",
              "        vertical-align: middle;\n",
              "    }\n",
              "\n",
              "    .dataframe tbody tr th {\n",
              "        vertical-align: top;\n",
              "    }\n",
              "\n",
              "    .dataframe thead th {\n",
              "        text-align: right;\n",
              "    }\n",
              "</style>\n",
              "<table border=\"1\" class=\"dataframe\">\n",
              "  <thead>\n",
              "    <tr style=\"text-align: right;\">\n",
              "      <th></th>\n",
              "      <th>Validacao 0</th>\n",
              "      <th>Validacao 1</th>\n",
              "      <th>Validacao 2</th>\n",
              "      <th>Validacao 3</th>\n",
              "      <th>Validacao 4</th>\n",
              "    </tr>\n",
              "  </thead>\n",
              "  <tbody>\n",
              "    <tr>\n",
              "      <th>KS</th>\n",
              "      <td>98.604650</td>\n",
              "      <td>98.60465</td>\n",
              "      <td>98.604650</td>\n",
              "      <td>98.604650</td>\n",
              "      <td>98.604650</td>\n",
              "    </tr>\n",
              "    <tr>\n",
              "      <th>ROC</th>\n",
              "      <td>0.993201</td>\n",
              "      <td>0.99263</td>\n",
              "      <td>0.992005</td>\n",
              "      <td>0.992626</td>\n",
              "      <td>0.992729</td>\n",
              "    </tr>\n",
              "    <tr>\n",
              "      <th>GINI</th>\n",
              "      <td>0.986401</td>\n",
              "      <td>0.98526</td>\n",
              "      <td>0.984009</td>\n",
              "      <td>0.985252</td>\n",
              "      <td>0.985459</td>\n",
              "    </tr>\n",
              "  </tbody>\n",
              "</table>\n",
              "</div>"
            ],
            "text/plain": [
              "      Validacao 0  Validacao 1  Validacao 2  Validacao 3  Validacao 4\n",
              "KS      98.604650     98.60465    98.604650    98.604650    98.604650\n",
              "ROC      0.993201      0.99263     0.992005     0.992626     0.992729\n",
              "GINI     0.986401      0.98526     0.984009     0.985252     0.985459"
            ]
          },
          "metadata": {},
          "execution_count": 34
        }
      ]
    },
    {
      "cell_type": "code",
      "metadata": {
        "colab": {
          "base_uri": "https://localhost:8080/",
          "height": 202
        },
        "id": "68p9awzoJU6o",
        "outputId": "1dfeda46-db38-4d2c-f28e-7d9930c30f93"
      },
      "source": [
        "  ks = []\n",
        "  roc = []\n",
        "  for i in algoritmos:\n",
        "    d = metricas(i.predict_proba(X)[:,0],y)\n",
        "    ks.append(d.iloc[:,0].values[0])\n",
        "    roc.append(d.iloc[:,1].values[0])\n",
        "lis_mod_XGB = pd.DataFrame({'KS':ks,'Roc':roc}).sort_values(by=['Roc'],ascending=False).reset_index().rename(columns={'index':'Algortimo'}).head(5)\n",
        "lis_mod_XGB"
      ],
      "execution_count": 35,
      "outputs": [
        {
          "output_type": "execute_result",
          "data": {
            "text/html": [
              "<div>\n",
              "<style scoped>\n",
              "    .dataframe tbody tr th:only-of-type {\n",
              "        vertical-align: middle;\n",
              "    }\n",
              "\n",
              "    .dataframe tbody tr th {\n",
              "        vertical-align: top;\n",
              "    }\n",
              "\n",
              "    .dataframe thead th {\n",
              "        text-align: right;\n",
              "    }\n",
              "</style>\n",
              "<table border=\"1\" class=\"dataframe\">\n",
              "  <thead>\n",
              "    <tr style=\"text-align: right;\">\n",
              "      <th></th>\n",
              "      <th>Algortimo</th>\n",
              "      <th>KS</th>\n",
              "      <th>Roc</th>\n",
              "    </tr>\n",
              "  </thead>\n",
              "  <tbody>\n",
              "    <tr>\n",
              "      <th>0</th>\n",
              "      <td>12</td>\n",
              "      <td>98.60465</td>\n",
              "      <td>0.010960</td>\n",
              "    </tr>\n",
              "    <tr>\n",
              "      <th>1</th>\n",
              "      <td>18</td>\n",
              "      <td>98.60465</td>\n",
              "      <td>0.010081</td>\n",
              "    </tr>\n",
              "    <tr>\n",
              "      <th>2</th>\n",
              "      <td>7</td>\n",
              "      <td>98.60465</td>\n",
              "      <td>0.009734</td>\n",
              "    </tr>\n",
              "    <tr>\n",
              "      <th>3</th>\n",
              "      <td>2</td>\n",
              "      <td>98.60465</td>\n",
              "      <td>0.009360</td>\n",
              "    </tr>\n",
              "    <tr>\n",
              "      <th>4</th>\n",
              "      <td>10</td>\n",
              "      <td>98.60465</td>\n",
              "      <td>0.008824</td>\n",
              "    </tr>\n",
              "  </tbody>\n",
              "</table>\n",
              "</div>"
            ],
            "text/plain": [
              "   Algortimo        KS       Roc\n",
              "0         12  98.60465  0.010960\n",
              "1         18  98.60465  0.010081\n",
              "2          7  98.60465  0.009734\n",
              "3          2  98.60465  0.009360\n",
              "4         10  98.60465  0.008824"
            ]
          },
          "metadata": {},
          "execution_count": 35
        }
      ]
    },
    {
      "cell_type": "markdown",
      "metadata": {
        "id": "5f09Qk8cPq0q"
      },
      "source": [
        "###Random Forest modelo 2"
      ]
    },
    {
      "cell_type": "code",
      "metadata": {
        "id": "Xmw2b-RpPqWS",
        "colab": {
          "base_uri": "https://localhost:8080/",
          "height": 175
        },
        "outputId": "59c70405-5351-4b54-d7e0-896ede47f99c"
      },
      "source": [
        "\n",
        "'''df_train = X\n",
        "targ = y\n",
        "\n",
        "# define model\n",
        "alg = RandomForestClassifier()\n",
        "# define evaluation\n",
        "cv = RepeatedStratifiedKFold(n_splits=10, n_repeats=3, random_state=1)\n",
        "\n",
        "# define search space\n",
        "space = param_grid = { \n",
        "                      'n_estimators': [200, 500],\n",
        "                      'max_features': ['auto', 'sqrt', 'log2'],\n",
        "                      'max_depth' : [4,5,6,7,8],\n",
        "                      'criterion' :['gini', 'entropy']\n",
        "                      }\n",
        "\n",
        "\n",
        "# define search\n",
        "#search = RandomizedSearchCV(model_1, space, n_iter=500, scoring='accuracy', n_jobs=-1, cv=cv, random_state=1)\n",
        "search= RandomizedSearchCV(alg,space,scoring='roc_auc',n_jobs=-1,cv=cv)\n",
        "\n",
        "# execute search\n",
        "result = search.fit(df_train, targ)\n",
        "# summarize result\n",
        "print('Best Score: %s' % result.best_score_)\n",
        "print('Best Hyperparameters: %s' % result.best_params_)'''"
      ],
      "execution_count": 36,
      "outputs": [
        {
          "output_type": "execute_result",
          "data": {
            "application/vnd.google.colaboratory.intrinsic+json": {
              "type": "string"
            },
            "text/plain": [
              "\"df_train = X\\ntarg = y\\n\\n# define model\\nalg = RandomForestClassifier()\\n# define evaluation\\ncv = RepeatedStratifiedKFold(n_splits=10, n_repeats=3, random_state=1)\\n\\n# define search space\\nspace = param_grid = { \\n                      'n_estimators': [200, 500],\\n                      'max_features': ['auto', 'sqrt', 'log2'],\\n                      'max_depth' : [4,5,6,7,8],\\n                      'criterion' :['gini', 'entropy']\\n                      }\\n\\n\\n# define search\\n#search = RandomizedSearchCV(model_1, space, n_iter=500, scoring='accuracy', n_jobs=-1, cv=cv, random_state=1)\\nsearch= RandomizedSearchCV(alg,space,scoring='roc_auc',n_jobs=-1,cv=cv)\\n\\n# execute search\\nresult = search.fit(df_train, targ)\\n# summarize result\\nprint('Best Score: %s' % result.best_score_)\\nprint('Best Hyperparameters: %s' % result.best_params_)\""
            ]
          },
          "metadata": {},
          "execution_count": 36
        }
      ]
    },
    {
      "cell_type": "code",
      "metadata": {
        "id": "aMqncHjdTHgE"
      },
      "source": [
        "##Best Score: 0.9999945728861391\n",
        "##Best Hyperparameters: {'n_estimators': 200, 'max_features': 'auto', 'max_depth': 7, 'criterion': 'gini'}"
      ],
      "execution_count": 37,
      "outputs": []
    },
    {
      "cell_type": "code",
      "metadata": {
        "colab": {
          "base_uri": "https://localhost:8080/",
          "height": 839
        },
        "id": "T62Xeuc5LN7Q",
        "outputId": "f503987b-eef6-43cc-b16f-3ea3ec76ad39"
      },
      "source": [
        "X = X\n",
        "y = y\n",
        "resultados_1 = []\n",
        "\n",
        "numero_repeticoes_1 = 5\n",
        "algoritmos_1 = []\n",
        "\n",
        "for k in range(0,numero_repeticoes_1):\n",
        "        metricas_cada_validacao = []\n",
        "        algoritmos_1 = []\n",
        "        i = 0\n",
        "        skf = StratifiedKFold(n_splits=2+k, random_state=None)\n",
        "        for train_index, val_index in skf.split(X,y):\n",
        "            i = 1 + i\n",
        "            X_train, X_test = X.iloc[train_index], X.iloc[val_index]\n",
        "            y_train, y_test = y.iloc[train_index], y.iloc[val_index]\n",
        "            modelo_02 = RandomForestClassifier(n_estimators= 200, max_features= 'auto', max_depth= 7, criterion= 'gini')\n",
        "            modelo_02.fit(X_train,y_train)\n",
        "            algoritmos_1.append(modelo_02)\n",
        "            metricas_cada_validacao.append(metricas(modelo_02.predict_proba(X)[:,1],y))\n",
        "            print(\"Resultado da Validação nº\",i,\":\",metricas(modelo_02.predict_proba(X)[:,0],y))\n",
        "        resultados_1.append(pd.DataFrame({'Validacao '+str(k):pd.concat(metricas_cada_validacao).apply(np.mean,axis=0)}))\n",
        "pd.concat(resultados_1,axis=1)"
      ],
      "execution_count": 38,
      "outputs": [
        {
          "output_type": "stream",
          "name": "stdout",
          "text": [
            "Resultado da Validação nº 1 :          KS       ROC      GINI\n",
            "0  98.83721  0.005854 -0.988292\n",
            "Resultado da Validação nº 2 :          KS       ROC      GINI\n",
            "0  99.76744  0.000033 -0.999933\n",
            "Resultado da Validação nº 1 :          KS       ROC      GINI\n",
            "0  98.83721  0.007464 -0.985072\n",
            "Resultado da Validação nº 2 :       KS  ROC  GINI\n",
            "0  100.0  0.0  -1.0\n",
            "Resultado da Validação nº 3 :          KS       ROC      GINI\n",
            "0  99.76744  0.000176 -0.999648\n",
            "Resultado da Validação nº 1 :          KS       ROC      GINI\n",
            "0  98.83721  0.006525 -0.986951\n",
            "Resultado da Validação nº 2 :       KS  ROC  GINI\n",
            "0  100.0  0.0  -1.0\n",
            "Resultado da Validação nº 3 :       KS  ROC  GINI\n",
            "0  100.0  0.0  -1.0\n",
            "Resultado da Validação nº 4 :          KS     ROC      GINI\n",
            "0  99.76744  0.0001 -0.999799\n",
            "Resultado da Validação nº 1 :       KS  ROC  GINI\n",
            "0  100.0  0.0  -1.0\n",
            "Resultado da Validação nº 2 :          KS      ROC      GINI\n",
            "0  98.83721  0.00686 -0.986281\n",
            "Resultado da Validação nº 3 :       KS  ROC  GINI\n",
            "0  100.0  0.0  -1.0\n",
            "Resultado da Validação nº 4 :          KS       ROC      GINI\n",
            "0  99.76744  0.000015 -0.999971\n",
            "Resultado da Validação nº 5 :       KS  ROC  GINI\n",
            "0  100.0  0.0  -1.0\n",
            "Resultado da Validação nº 1 :          KS       ROC      GINI\n",
            "0  99.87477  0.000003 -0.999994\n",
            "Resultado da Validação nº 2 :          KS       ROC      GINI\n",
            "0  98.83721  0.005954 -0.988092\n",
            "Resultado da Validação nº 3 :       KS  ROC  GINI\n",
            "0  100.0  0.0  -1.0\n",
            "Resultado da Validação nº 4 :       KS  ROC  GINI\n",
            "0  100.0  0.0  -1.0\n",
            "Resultado da Validação nº 5 :          KS       ROC      GINI\n",
            "0  99.76744  0.000019 -0.999962\n",
            "Resultado da Validação nº 6 :          KS       ROC      GINI\n",
            "0  99.93738  0.000001 -0.999997\n"
          ]
        },
        {
          "output_type": "execute_result",
          "data": {
            "text/html": [
              "<div>\n",
              "<style scoped>\n",
              "    .dataframe tbody tr th:only-of-type {\n",
              "        vertical-align: middle;\n",
              "    }\n",
              "\n",
              "    .dataframe tbody tr th {\n",
              "        vertical-align: top;\n",
              "    }\n",
              "\n",
              "    .dataframe thead th {\n",
              "        text-align: right;\n",
              "    }\n",
              "</style>\n",
              "<table border=\"1\" class=\"dataframe\">\n",
              "  <thead>\n",
              "    <tr style=\"text-align: right;\">\n",
              "      <th></th>\n",
              "      <th>Validacao 0</th>\n",
              "      <th>Validacao 1</th>\n",
              "      <th>Validacao 2</th>\n",
              "      <th>Validacao 3</th>\n",
              "      <th>Validacao 4</th>\n",
              "    </tr>\n",
              "  </thead>\n",
              "  <tbody>\n",
              "    <tr>\n",
              "      <th>KS</th>\n",
              "      <td>99.302325</td>\n",
              "      <td>99.534883</td>\n",
              "      <td>99.651162</td>\n",
              "      <td>99.720930</td>\n",
              "      <td>99.736133</td>\n",
              "    </tr>\n",
              "    <tr>\n",
              "      <th>ROC</th>\n",
              "      <td>0.997056</td>\n",
              "      <td>0.997453</td>\n",
              "      <td>0.998344</td>\n",
              "      <td>0.998625</td>\n",
              "      <td>0.999004</td>\n",
              "    </tr>\n",
              "    <tr>\n",
              "      <th>GINI</th>\n",
              "      <td>0.994113</td>\n",
              "      <td>0.994907</td>\n",
              "      <td>0.996687</td>\n",
              "      <td>0.997250</td>\n",
              "      <td>0.998008</td>\n",
              "    </tr>\n",
              "  </tbody>\n",
              "</table>\n",
              "</div>"
            ],
            "text/plain": [
              "      Validacao 0  Validacao 1  Validacao 2  Validacao 3  Validacao 4\n",
              "KS      99.302325    99.534883    99.651162    99.720930    99.736133\n",
              "ROC      0.997056     0.997453     0.998344     0.998625     0.999004\n",
              "GINI     0.994113     0.994907     0.996687     0.997250     0.998008"
            ]
          },
          "metadata": {},
          "execution_count": 38
        }
      ]
    },
    {
      "cell_type": "code",
      "metadata": {
        "id": "7Sipw9cn8woA"
      },
      "source": [
        "ks = []\n",
        "roc = []\n",
        "for i in algoritmos_1:\n",
        "    d = metricas(i.predict_proba(X)[:,0],y)\n",
        "    ks.append(d.iloc[:,0].values[0])\n",
        "    roc.append(d.iloc[:,1].values[0])\n",
        "lis_mod_RF = pd.DataFrame({'KS':ks,'Roc':roc}).sort_values(by=['Roc'],ascending=False).reset_index().rename(columns={'index':'Algortimo'}).head(5)"
      ],
      "execution_count": 39,
      "outputs": []
    },
    {
      "cell_type": "code",
      "metadata": {
        "colab": {
          "base_uri": "https://localhost:8080/",
          "height": 202
        },
        "id": "XZTaKqW_jY1w",
        "outputId": "e3fa3768-50c7-45bd-fcf8-97b9cd97dffd"
      },
      "source": [
        "lis_mod_RF"
      ],
      "execution_count": 40,
      "outputs": [
        {
          "output_type": "execute_result",
          "data": {
            "text/html": [
              "<div>\n",
              "<style scoped>\n",
              "    .dataframe tbody tr th:only-of-type {\n",
              "        vertical-align: middle;\n",
              "    }\n",
              "\n",
              "    .dataframe tbody tr th {\n",
              "        vertical-align: top;\n",
              "    }\n",
              "\n",
              "    .dataframe thead th {\n",
              "        text-align: right;\n",
              "    }\n",
              "</style>\n",
              "<table border=\"1\" class=\"dataframe\">\n",
              "  <thead>\n",
              "    <tr style=\"text-align: right;\">\n",
              "      <th></th>\n",
              "      <th>Algortimo</th>\n",
              "      <th>KS</th>\n",
              "      <th>Roc</th>\n",
              "    </tr>\n",
              "  </thead>\n",
              "  <tbody>\n",
              "    <tr>\n",
              "      <th>0</th>\n",
              "      <td>1</td>\n",
              "      <td>98.83721</td>\n",
              "      <td>0.005954</td>\n",
              "    </tr>\n",
              "    <tr>\n",
              "      <th>1</th>\n",
              "      <td>4</td>\n",
              "      <td>99.76744</td>\n",
              "      <td>0.000019</td>\n",
              "    </tr>\n",
              "    <tr>\n",
              "      <th>2</th>\n",
              "      <td>0</td>\n",
              "      <td>99.87477</td>\n",
              "      <td>0.000003</td>\n",
              "    </tr>\n",
              "    <tr>\n",
              "      <th>3</th>\n",
              "      <td>5</td>\n",
              "      <td>99.93738</td>\n",
              "      <td>0.000001</td>\n",
              "    </tr>\n",
              "    <tr>\n",
              "      <th>4</th>\n",
              "      <td>2</td>\n",
              "      <td>100.00000</td>\n",
              "      <td>0.000000</td>\n",
              "    </tr>\n",
              "  </tbody>\n",
              "</table>\n",
              "</div>"
            ],
            "text/plain": [
              "   Algortimo         KS       Roc\n",
              "0          1   98.83721  0.005954\n",
              "1          4   99.76744  0.000019\n",
              "2          0   99.87477  0.000003\n",
              "3          5   99.93738  0.000001\n",
              "4          2  100.00000  0.000000"
            ]
          },
          "metadata": {},
          "execution_count": 40
        }
      ]
    },
    {
      "cell_type": "markdown",
      "metadata": {
        "id": "h4EU5-9vMup8"
      },
      "source": [
        "##Model validation"
      ]
    },
    {
      "cell_type": "code",
      "metadata": {
        "colab": {
          "base_uri": "https://localhost:8080/",
          "height": 110
        },
        "id": "UaUbigeomXKJ",
        "outputId": "5aa29e9c-e680-4a6f-f4a2-ef6985b5b32d"
      },
      "source": [
        "pd.concat([(pd.DataFrame(lis_mod_XGB.iloc[0,1:]).rename(columns={0:'Mod_XGB'})),(pd.DataFrame(lis_mod_RF.iloc[0,1:]).rename(columns={0:'Mod_RandFore'}))],axis=1)"
      ],
      "execution_count": 41,
      "outputs": [
        {
          "output_type": "execute_result",
          "data": {
            "text/html": [
              "<div>\n",
              "<style scoped>\n",
              "    .dataframe tbody tr th:only-of-type {\n",
              "        vertical-align: middle;\n",
              "    }\n",
              "\n",
              "    .dataframe tbody tr th {\n",
              "        vertical-align: top;\n",
              "    }\n",
              "\n",
              "    .dataframe thead th {\n",
              "        text-align: right;\n",
              "    }\n",
              "</style>\n",
              "<table border=\"1\" class=\"dataframe\">\n",
              "  <thead>\n",
              "    <tr style=\"text-align: right;\">\n",
              "      <th></th>\n",
              "      <th>Mod_XGB</th>\n",
              "      <th>Mod_RandFore</th>\n",
              "    </tr>\n",
              "  </thead>\n",
              "  <tbody>\n",
              "    <tr>\n",
              "      <th>KS</th>\n",
              "      <td>98.60465</td>\n",
              "      <td>98.837210</td>\n",
              "    </tr>\n",
              "    <tr>\n",
              "      <th>Roc</th>\n",
              "      <td>0.01096</td>\n",
              "      <td>0.005954</td>\n",
              "    </tr>\n",
              "  </tbody>\n",
              "</table>\n",
              "</div>"
            ],
            "text/plain": [
              "      Mod_XGB  Mod_RandFore\n",
              "KS   98.60465     98.837210\n",
              "Roc   0.01096      0.005954"
            ]
          },
          "metadata": {},
          "execution_count": 41
        }
      ]
    },
    {
      "cell_type": "markdown",
      "metadata": {
        "id": "2vGpFVu46LWX"
      },
      "source": [
        "##Score Final"
      ]
    },
    {
      "cell_type": "code",
      "metadata": {
        "id": "YK3lsxqzLNxY"
      },
      "source": [
        "df['Score_solucao'] = np.round(modelo_01.predict_proba(X)[:,0],2)*100"
      ],
      "execution_count": 42,
      "outputs": []
    },
    {
      "cell_type": "code",
      "metadata": {
        "colab": {
          "base_uri": "https://localhost:8080/",
          "height": 295
        },
        "id": "VE_a6E6XLNuM",
        "outputId": "87174f83-ddbe-4081-b9b6-8081eee4f230"
      },
      "source": [
        "plot_scores(df, score_base='Score_solucao')"
      ],
      "execution_count": 43,
      "outputs": [
        {
          "output_type": "display_data",
          "data": {
            "image/png": "[encoded data removed]",
            "text/plain": [
              "<Figure size 576x288 with 1 Axes>"
            ]
          },
          "metadata": {
            "needs_background": "light"
          }
        }
      ]
    },
    {
      "cell_type": "code",
      "metadata": {
        "id": "6rX6wMRyLNri"
      },
      "source": [
        ""
      ],
      "execution_count": 43,
      "outputs": []
    }
  ]
}